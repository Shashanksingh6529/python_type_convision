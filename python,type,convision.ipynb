{
 "cells": [
  {
   "cell_type": "markdown",
   "id": "62147c4d-3c4b-48cf-9d19-d60a827d264f",
   "metadata": {},
   "source": [
    "Covert a iteger to a floatig-poit number"
   ]
  },
  {
   "cell_type": "code",
   "execution_count": 1,
   "id": "6ffc8e10-dd11-4cfc-b808-a27a19afcf4d",
   "metadata": {},
   "outputs": [
    {
     "name": "stdout",
     "output_type": "stream",
     "text": [
      "10.0\n"
     ]
    }
   ],
   "source": [
    "integer_number = 10\n",
    "floating_point_number = float(integer_number)\n",
    "print(floating_point_number)"
   ]
  },
  {
   "cell_type": "markdown",
   "id": "ca5ad326-a4d3-4bcd-86f6-cdecdf4afc91",
   "metadata": {},
   "source": [
    " Covert a float to a iteger."
   ]
  },
  {
   "cell_type": "code",
   "execution_count": 2,
   "id": "665b55c9-ba6b-4def-a8b4-5093704292c9",
   "metadata": {},
   "outputs": [
    {
     "name": "stdout",
     "output_type": "stream",
     "text": [
      "3\n"
     ]
    }
   ],
   "source": [
    "float_number = 3.14\n",
    "integer_number = int(float_number)\n",
    "print(integer_number)"
   ]
  },
  {
   "cell_type": "markdown",
   "id": "99ae3750-bce3-43ad-99af-0ac0d9352308",
   "metadata": {},
   "source": [
    "Covert a iteger to a string"
   ]
  },
  {
   "cell_type": "code",
   "execution_count": 3,
   "id": "378b2a45-0d0a-4d83-b6db-18cae37deb2c",
   "metadata": {},
   "outputs": [
    {
     "name": "stdout",
     "output_type": "stream",
     "text": [
      "42\n"
     ]
    }
   ],
   "source": [
    "integer_number = 42\n",
    "string_number = str(integer_number)\n",
    "print(string_number)"
   ]
  },
  {
   "cell_type": "markdown",
   "id": "dea3dea4-4cad-496e-bc64-5b6123092540",
   "metadata": {},
   "source": [
    "Covert a list to a tuple."
   ]
  },
  {
   "cell_type": "code",
   "execution_count": 4,
   "id": "3e444115-efe2-4dc0-bc42-982af2a51a3f",
   "metadata": {},
   "outputs": [
    {
     "data": {
      "text/plain": [
       "(1, 2, 3, 4, 5, 6, 7, 8)"
      ]
     },
     "execution_count": 4,
     "metadata": {},
     "output_type": "execute_result"
    }
   ],
   "source": [
    "l =[1,2,3,4,5,6,7,8]\n",
    "tuple(l)"
   ]
  },
  {
   "cell_type": "markdown",
   "id": "a5c10637-9ff4-4137-89ed-5fcb209fec76",
   "metadata": {},
   "source": [
    "Covert a tuple to a list"
   ]
  },
  {
   "cell_type": "code",
   "execution_count": 5,
   "id": "77dbd556-178f-4075-ba33-ddcdfcefe2f2",
   "metadata": {},
   "outputs": [
    {
     "data": {
      "text/plain": [
       "[1, 2, 3, 4, 5, 6, 7, 8]"
      ]
     },
     "execution_count": 5,
     "metadata": {},
     "output_type": "execute_result"
    }
   ],
   "source": [
    "t =(1,2,3,4,5,6,7,8,9)\n",
    "list(l)"
   ]
  },
  {
   "cell_type": "markdown",
   "id": "72999c35-110d-49b6-bfee-2083776cf856",
   "metadata": {},
   "source": [
    "Covert a decimal number to binary"
   ]
  },
  {
   "cell_type": "code",
   "execution_count": 9,
   "id": "925f37f7-68ca-4a24-a83d-4a4311fbb863",
   "metadata": {},
   "outputs": [
    {
     "data": {
      "text/plain": [
       "'0b1010'"
      ]
     },
     "execution_count": 9,
     "metadata": {},
     "output_type": "execute_result"
    }
   ],
   "source": [
    "a = 10 \n",
    "bin(a) "
   ]
  },
  {
   "cell_type": "markdown",
   "id": "deb03176-28a4-4b63-be01-8f87c1a6a5c8",
   "metadata": {},
   "source": [
    "Covert a o-zero number to boolean"
   ]
  },
  {
   "cell_type": "code",
   "execution_count": 10,
   "id": "3c2aa31c-3dbd-4e42-813f-cb517e2400ab",
   "metadata": {},
   "outputs": [
    {
     "data": {
      "text/plain": [
       "True"
      ]
     },
     "execution_count": 10,
     "metadata": {},
     "output_type": "execute_result"
    }
   ],
   "source": [
    "a = 1\n",
    "bool(a) "
   ]
  },
  {
   "cell_type": "code",
   "execution_count": 11,
   "id": "4ee82fcc-2bec-40fd-ac9e-c25084878e88",
   "metadata": {},
   "outputs": [
    {
     "data": {
      "text/plain": [
       "False"
      ]
     },
     "execution_count": 11,
     "metadata": {},
     "output_type": "execute_result"
    }
   ],
   "source": [
    "b = 0 \n",
    "bool(b) "
   ]
  },
  {
   "cell_type": "code",
   "execution_count": null,
   "id": "32ba4812-0adb-4040-9dc3-652eb7ba8163",
   "metadata": {},
   "outputs": [],
   "source": []
  }
 ],
 "metadata": {
  "kernelspec": {
   "display_name": "Python 3 (ipykernel)",
   "language": "python",
   "name": "python3"
  },
  "language_info": {
   "codemirror_mode": {
    "name": "ipython",
    "version": 3
   },
   "file_extension": ".py",
   "mimetype": "text/x-python",
   "name": "python",
   "nbconvert_exporter": "python",
   "pygments_lexer": "ipython3",
   "version": "3.10.8"
  }
 },
 "nbformat": 4,
 "nbformat_minor": 5
}
